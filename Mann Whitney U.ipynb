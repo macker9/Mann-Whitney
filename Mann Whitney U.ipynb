{
 "cells": [
  {
   "cell_type": "code",
   "execution_count": 1,
   "metadata": {},
   "outputs": [],
   "source": [
    "#import essential function\n",
    "import pandas as pd\n",
    "import seaborn as sns"
   ]
  },
  {
   "cell_type": "markdown",
   "metadata": {},
   "source": [
    "# import data"
   ]
  },
  {
   "cell_type": "code",
   "execution_count": 2,
   "metadata": {
    "scrolled": true
   },
   "outputs": [
    {
     "name": "stdout",
     "output_type": "stream",
     "text": [
      "    Station  Depth  Pi concentration         N/P  % Pi uptake  Turnover  \\\n",
      "0   Dagon 2      5                10   21.750271    57.845567  0.192819   \n",
      "1   Dagon 3      5                 5   42.536522    73.752976  0.268446   \n",
      "2   Dagon 4      5                 9   26.311253    84.829038  0.191014   \n",
      "3  Tarhun 8      5                12   68.419742    86.272658  0.168712   \n",
      "4   Dagon 2     50                11   39.437601    62.461419  0.173451   \n",
      "5   Dagon 3     50                 5  112.859134    61.542681  0.184343   \n",
      "6   Dagon 4     50                10   69.541633    53.313017  0.136331   \n",
      "7  Tarhun 8     50                11   66.877382    63.628589  0.152953   \n",
      "\n",
      "   Pi uptake     % phn  Phn production       DOP  \n",
      "0   1.928186  0.573486       11.057876  0.045687  \n",
      "1   1.342232  0.232350        3.118682  0.044738  \n",
      "2   1.719122  0.576642        9.913186  0.054266  \n",
      "3   2.024545  0.496120       10.044168  0.030775  \n",
      "4   1.907965  0.499030        9.820086  0.052437  \n",
      "5   0.921716  0.404596        3.729226  0.046113  \n",
      "6   1.363315  0.331280        4.516393  0.054266  \n",
      "7   1.682487  0.424381        7.140146  0.046525  \n"
     ]
    }
   ],
   "source": [
    "#import excel file of PERLE 2 cruise\n",
    "data = pd.read_excel(r'C:\\Users\\maria\\Dropbox (MIT)\\PERLE cruise\\33P\\33P final values summary.xlsx') #place r before the pathstring\n",
    "print(data)"
   ]
  },
  {
   "cell_type": "code",
   "execution_count": 3,
   "metadata": {
    "scrolled": true
   },
   "outputs": [
    {
     "name": "stdout",
     "output_type": "stream",
     "text": [
      "0     5\n",
      "1     5\n",
      "2     5\n",
      "3     5\n",
      "4    50\n",
      "5    50\n",
      "6    50\n",
      "7    50\n",
      "Name: Depth, dtype: int64\n",
      "0    10\n",
      "1     5\n",
      "2     9\n",
      "3    12\n",
      "4    11\n",
      "5     5\n",
      "6    10\n",
      "7    11\n",
      "Name: Pi concentration, dtype: int64\n"
     ]
    }
   ],
   "source": [
    "#define variables\n",
    "D = data['Depth']\n",
    "Pi = data['Pi concentration']\n",
    "R = data['N/P']\n",
    "u = data['% Pi uptake']\n",
    "T = data['Turnover']\n",
    "U = data['Pi uptake']\n",
    "phn = data['% phn']\n",
    "Phn = data['Phn production']\n",
    "DOP = data['DOP']\n",
    "print(D)\n",
    "print(Pi)"
   ]
  },
  {
   "cell_type": "markdown",
   "metadata": {},
   "source": [
    " Mann Whitney U function"
   ]
  },
  {
   "cell_type": "code",
   "execution_count": 4,
   "metadata": {
    "scrolled": true
   },
   "outputs": [
    {
     "ename": "ValueError",
     "evalue": "too many values to unpack (expected 2)",
     "output_type": "error",
     "traceback": [
      "\u001b[1;31m---------------------------------------------------------------------------\u001b[0m",
      "\u001b[1;31mValueError\u001b[0m                                Traceback (most recent call last)",
      "\u001b[1;32m<ipython-input-4-ba66dbb7d327>\u001b[0m in \u001b[0;36m<module>\u001b[1;34m\u001b[0m\n\u001b[0;32m      3\u001b[0m \u001b[0mvariables\u001b[0m \u001b[1;33m=\u001b[0m \u001b[1;33m[\u001b[0m\u001b[0mD\u001b[0m\u001b[1;33m,\u001b[0m \u001b[0mPi\u001b[0m\u001b[1;33m,\u001b[0m \u001b[0mR\u001b[0m\u001b[1;33m,\u001b[0m \u001b[0mu\u001b[0m\u001b[1;33m,\u001b[0m \u001b[0mT\u001b[0m\u001b[1;33m,\u001b[0m \u001b[0mU\u001b[0m\u001b[1;33m,\u001b[0m \u001b[0mphn\u001b[0m\u001b[1;33m,\u001b[0m \u001b[0mPhn\u001b[0m\u001b[1;33m,\u001b[0m \u001b[0mDOP\u001b[0m\u001b[1;33m]\u001b[0m \u001b[1;31m#make a list of variables\u001b[0m\u001b[1;33m\u001b[0m\u001b[1;33m\u001b[0m\u001b[0m\n\u001b[0;32m      4\u001b[0m \u001b[1;33m\u001b[0m\u001b[0m\n\u001b[1;32m----> 5\u001b[1;33m \u001b[1;32mfor\u001b[0m \u001b[0mi\u001b[0m\u001b[1;33m,\u001b[0m \u001b[0mj\u001b[0m \u001b[1;32min\u001b[0m \u001b[0mvariables\u001b[0m\u001b[1;33m:\u001b[0m\u001b[1;33m\u001b[0m\u001b[1;33m\u001b[0m\u001b[0m\n\u001b[0m\u001b[0;32m      6\u001b[0m     \u001b[0mstatistic\u001b[0m\u001b[1;33m,\u001b[0m \u001b[0mpvalue\u001b[0m \u001b[1;33m=\u001b[0m \u001b[0mmannwhitneyu\u001b[0m\u001b[1;33m(\u001b[0m\u001b[0mi\u001b[0m\u001b[1;33m,\u001b[0m \u001b[0mj\u001b[0m\u001b[1;33m,\u001b[0m \u001b[0muse_continuity\u001b[0m\u001b[1;33m=\u001b[0m\u001b[1;32mTrue\u001b[0m\u001b[1;33m,\u001b[0m \u001b[0malternative\u001b[0m\u001b[1;33m=\u001b[0m\u001b[1;34m'two-sided'\u001b[0m\u001b[1;33m)\u001b[0m\u001b[1;33m\u001b[0m\u001b[1;33m\u001b[0m\u001b[0m\n\u001b[0;32m      7\u001b[0m \u001b[1;33m\u001b[0m\u001b[0m\n",
      "\u001b[1;31mValueError\u001b[0m: too many values to unpack (expected 2)"
     ]
    }
   ],
   "source": [
    "from scipy.stats import mannwhitneyu\n",
    "\n",
    "variables = [D, Pi, R, u, T, U, phn, Phn, DOP] #make a list of variables\n",
    "\n",
    "for i, j in variables:\n",
    "    statistic, pvalue = mannwhitneyu(i, j, use_continuity=True, alternative='two-sided')\n",
    "\n",
    "\n"
   ]
  },
  {
   "cell_type": "markdown",
   "metadata": {},
   "source": [
    "# Create a Table"
   ]
  },
  {
   "cell_type": "code",
   "execution_count": null,
   "metadata": {},
   "outputs": [],
   "source": [
    "np.array(names)=variables"
   ]
  }
 ],
 "metadata": {
  "kernelspec": {
   "display_name": "Python 3",
   "language": "python",
   "name": "python3"
  },
  "language_info": {
   "codemirror_mode": {
    "name": "ipython",
    "version": 3
   },
   "file_extension": ".py",
   "mimetype": "text/x-python",
   "name": "python",
   "nbconvert_exporter": "python",
   "pygments_lexer": "ipython3",
   "version": "3.7.6"
  }
 },
 "nbformat": 4,
 "nbformat_minor": 4
}
