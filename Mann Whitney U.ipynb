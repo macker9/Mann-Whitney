{
 "cells": [
  {
   "cell_type": "code",
   "execution_count": 16,
   "metadata": {},
   "outputs": [],
   "source": [
    "#import essential function\n",
    "import pandas as pd\n",
    "import matplotlib.pyplot as plt\n",
    "import seaborn as sns"
   ]
  },
  {
   "cell_type": "markdown",
   "metadata": {},
   "source": [
    "# import data"
   ]
  },
  {
   "cell_type": "code",
   "execution_count": 17,
   "metadata": {
    "scrolled": true
   },
   "outputs": [
    {
     "name": "stdout",
     "output_type": "stream",
     "text": [
      "    Station  Depth  Pi concentration         N/P  % Pi uptake  Turnover  \\\n",
      "0   Dagon 2      5                10   21.750271    57.845567  0.192819   \n",
      "1   Dagon 3      5                 5   42.536522    73.752976  0.268446   \n",
      "2   Dagon 4      5                 9   26.311253    84.829038  0.191014   \n",
      "3  Tarhun 8      5                12   68.419742    86.272658  0.168712   \n",
      "4   Dagon 2     50                11   39.437601    62.461419  0.173451   \n",
      "5   Dagon 3     50                 5  112.859134    61.542681  0.184343   \n",
      "6   Dagon 4     50                10   69.541633    53.313017  0.136331   \n",
      "7  Tarhun 8     50                11   66.877382    63.628589  0.152953   \n",
      "\n",
      "   Pi uptake     % phn  Phn production  \n",
      "0   1.928186  0.573486       11.057876  \n",
      "1   1.342232  0.232350        3.118682  \n",
      "2   1.719122  0.576642        9.913186  \n",
      "3   2.024545  0.496120       10.044168  \n",
      "4   1.907965  0.499030        9.820086  \n",
      "5   0.921716  0.404596        3.729226  \n",
      "6   1.363315  0.331280        4.516393  \n",
      "7   1.682487  0.424381        7.140146  \n"
     ]
    }
   ],
   "source": [
    "#import excel file of PERLE 2 cruise\n",
    "data = pd.read_excel(r'C:\\Users\\maria\\Dropbox (MIT)\\PERLE cruise\\33P\\33P final values summary.xlsx') #place r before the pathstring\n",
    "print(data)"
   ]
  },
  {
   "cell_type": "code",
   "execution_count": 18,
   "metadata": {
    "scrolled": true
   },
   "outputs": [
    {
     "name": "stdout",
     "output_type": "stream",
     "text": [
      "0     5\n",
      "1     5\n",
      "2     5\n",
      "3     5\n",
      "4    50\n",
      "5    50\n",
      "6    50\n",
      "7    50\n",
      "Name: Depth, dtype: int64\n",
      "0    10\n",
      "1     5\n",
      "2     9\n",
      "3    12\n",
      "4    11\n",
      "5     5\n",
      "6    10\n",
      "7    11\n",
      "Name: Pi concentration, dtype: int64\n"
     ]
    }
   ],
   "source": [
    "#define variables\n",
    "D = data['Depth']\n",
    "Pi = data['Pi concentration']\n",
    "R = data['N/P']\n",
    "u = data['% Pi uptake']\n",
    "T = data['Turnover']\n",
    "U = data['Pi uptake']\n",
    "phn = data['% phn']\n",
    "Phn = data['Phn production']\n",
    "print(D)\n",
    "print(Pi)"
   ]
  },
  {
   "cell_type": "markdown",
   "metadata": {},
   "source": [
    " Mann Whitney U function"
   ]
  },
  {
   "cell_type": "code",
   "execution_count": 20,
   "metadata": {
    "scrolled": true
   },
   "outputs": [
    {
     "name": "stdout",
     "output_type": "stream",
     "text": [
      "[0     5\n",
      "1     5\n",
      "2     5\n",
      "3     5\n",
      "4    50\n",
      "5    50\n",
      "6    50\n",
      "7    50\n",
      "Name: Depth, dtype: int64, 0    10\n",
      "1     5\n",
      "2     9\n",
      "3    12\n",
      "4    11\n",
      "5     5\n",
      "6    10\n",
      "7    11\n",
      "Name: Pi concentration, dtype: int64, 0     21.750271\n",
      "1     42.536522\n",
      "2     26.311253\n",
      "3     68.419742\n",
      "4     39.437601\n",
      "5    112.859134\n",
      "6     69.541633\n",
      "7     66.877382\n",
      "Name: N/P, dtype: float64, 0    57.845567\n",
      "1    73.752976\n",
      "2    84.829038\n",
      "3    86.272658\n",
      "4    62.461419\n",
      "5    61.542681\n",
      "6    53.313017\n",
      "7    63.628589\n",
      "Name: % Pi uptake, dtype: float64, 0    0.192819\n",
      "1    0.268446\n",
      "2    0.191014\n",
      "3    0.168712\n",
      "4    0.173451\n",
      "5    0.184343\n",
      "6    0.136331\n",
      "7    0.152953\n",
      "Name: Turnover, dtype: float64, 0    1.928186\n",
      "1    1.342232\n",
      "2    1.719122\n",
      "3    2.024545\n",
      "4    1.907965\n",
      "5    0.921716\n",
      "6    1.363315\n",
      "7    1.682487\n",
      "Name: Pi uptake, dtype: float64, 0    0.573486\n",
      "1    0.232350\n",
      "2    0.576642\n",
      "3    0.496120\n",
      "4    0.499030\n",
      "5    0.404596\n",
      "6    0.331280\n",
      "7    0.424381\n",
      "Name: % phn, dtype: float64, 0    11.057876\n",
      "1     3.118682\n",
      "2     9.913186\n",
      "3    10.044168\n",
      "4     9.820086\n",
      "5     3.729226\n",
      "6     4.516393\n",
      "7     7.140146\n",
      "Name: Phn production, dtype: float64]\n"
     ]
    }
   ],
   "source": [
    "from scipy.stats import mannwhitneyu\n",
    "\n",
    "variables = [D, Pi, R, u, T, U, phn, Phn] #make a list of variables\n",
    "\n",
    "for i, j in variables:\n",
    "    statistic, pvalue = mannwhitneyu(i, j, use_continuity=True, alternative='two-sided')\n",
    "\n",
    "\n"
   ]
  },
  {
   "cell_type": "markdown",
   "metadata": {},
   "source": [
    "# Create a Table"
   ]
  },
  {
   "cell_type": "code",
   "execution_count": null,
   "metadata": {},
   "outputs": [],
   "source": [
    "np.array(names)=variables"
   ]
  }
 ],
 "metadata": {
  "kernelspec": {
   "display_name": "Python 3",
   "language": "python",
   "name": "python3"
  },
  "language_info": {
   "codemirror_mode": {
    "name": "ipython",
    "version": 3
   },
   "file_extension": ".py",
   "mimetype": "text/x-python",
   "name": "python",
   "nbconvert_exporter": "python",
   "pygments_lexer": "ipython3",
   "version": "3.7.6"
  }
 },
 "nbformat": 4,
 "nbformat_minor": 4
}
