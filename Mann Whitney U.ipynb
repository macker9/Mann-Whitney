{
 "cells": [
  {
   "cell_type": "code",
   "execution_count": 11,
   "metadata": {},
   "outputs": [],
   "source": [
    "#import essential function\n",
    "import pandas as pd\n",
    "import matplotlib.pyplot as plt\n",
    "import seaborn as sns"
   ]
  },
  {
   "cell_type": "markdown",
   "metadata": {},
   "source": [
    "# import data"
   ]
  },
  {
   "cell_type": "code",
   "execution_count": 48,
   "metadata": {
    "scrolled": true
   },
   "outputs": [
    {
     "name": "stdout",
     "output_type": "stream",
     "text": [
      "    Station  Depth  Pi concentration         N/P  % Pi uptake  Turnover  \\\n",
      "0   Dagon 2      5                10   21.750271    57.845567  0.192819   \n",
      "1   Dagon 3      5                 5   42.536522    73.752976  0.268446   \n",
      "2   Dagon 4      5                 9   26.311253    84.829038  0.191014   \n",
      "3  Tarhun 8      5                12   68.419742    86.272658  0.168712   \n",
      "4   Dagon 2     50                11   39.437601    62.461419  0.173451   \n",
      "5   Dagon 3     50                 5  112.859134    61.542681  0.184343   \n",
      "6   Dagon 4     50                10   69.541633    53.313017  0.136331   \n",
      "7  Tarhun 8     50                11   66.877382    63.628589  0.152953   \n",
      "\n",
      "   Pi uptake  Phn production     % phn  \n",
      "0   1.928186       10.983055  0.569606  \n",
      "1   1.342232        3.244020  0.241689  \n",
      "2   1.719122       10.645821  0.619259  \n",
      "3   2.024545       10.381299  0.512772  \n",
      "4   1.907965        9.820086  0.514689  \n",
      "5   0.921716        4.020731  0.436222  \n",
      "6   1.363315        4.668674  0.342450  \n",
      "7   1.682487        7.665179  0.455586  \n"
     ]
    }
   ],
   "source": [
    "#import excel file of PERLE 2 cruise\n",
    "data = pd.read_excel(r'C:\\Users\\maria\\Dropbox (MIT)\\PERLE cruise\\33P\\33P final values summary.xlsx') #place r before the pathstring\n",
    "print(data)"
   ]
  },
  {
   "cell_type": "code",
   "execution_count": 49,
   "metadata": {
    "scrolled": true
   },
   "outputs": [
    {
     "name": "stdout",
     "output_type": "stream",
     "text": [
      "0     5\n",
      "1     5\n",
      "2     5\n",
      "3     5\n",
      "4    50\n",
      "5    50\n",
      "6    50\n",
      "7    50\n",
      "Name: Depth, dtype: int64\n",
      "0    10\n",
      "1     5\n",
      "2     9\n",
      "3    12\n",
      "4    11\n",
      "5     5\n",
      "6    10\n",
      "7    11\n",
      "Name: Pi concentration, dtype: int64\n"
     ]
    }
   ],
   "source": [
    "#define variables\n",
    "D = data['Depth']\n",
    "Pi = data['Pi concentration']\n",
    "R = data['N/P']\n",
    "u = data['% Pi uptake']\n",
    "T = data['Turnover']\n",
    "U = data['Pi uptake']\n",
    "phn = data['% phn']\n",
    "P = data['Phn production']\n",
    "print(D)\n",
    "print(Pi)"
   ]
  },
  {
   "cell_type": "markdown",
   "metadata": {},
   "source": [
    " Mann Whitney U function"
   ]
  },
  {
   "cell_type": "code",
   "execution_count": 31,
   "metadata": {
    "scrolled": true
   },
   "outputs": [
    {
     "name": "stdout",
     "output_type": "stream",
     "text": [
      "0.7032215757884168\n"
     ]
    }
   ],
   "source": [
    "from scipy.stats import mannwhitneyu\n",
    "statistic, pvalue = mannwhitneyu(D, Pi, use_continuity=True, alternative='two-sided')\n",
    "print(pvalue)\n"
   ]
  },
  {
   "cell_type": "code",
   "execution_count": 50,
   "metadata": {},
   "outputs": [
    {
     "ename": "SyntaxError",
     "evalue": "invalid syntax (<ipython-input-50-af2d69daedf0>, line 3)",
     "output_type": "error",
     "traceback": [
      "\u001b[1;36m  File \u001b[1;32m\"<ipython-input-50-af2d69daedf0>\"\u001b[1;36m, line \u001b[1;32m3\u001b[0m\n\u001b[1;33m    if pvalue>a\u001b[0m\n\u001b[1;37m                ^\u001b[0m\n\u001b[1;31mSyntaxError\u001b[0m\u001b[1;31m:\u001b[0m invalid syntax\n"
     ]
    }
   ],
   "source": [
    "#interpret\n",
    "alpha = 0.05\n",
    "if pvalue > alpha\n",
    "    print('Same distribution, fail to reject H0')\n",
    "else\n",
    "    print('Different distribution, reject H0')"
   ]
  },
  {
   "cell_type": "markdown",
   "metadata": {},
   "source": [
    "# Create a Table"
   ]
  }
 ],
 "metadata": {
  "kernelspec": {
   "display_name": "Python 3",
   "language": "python",
   "name": "python3"
  },
  "language_info": {
   "codemirror_mode": {
    "name": "ipython",
    "version": 3
   },
   "file_extension": ".py",
   "mimetype": "text/x-python",
   "name": "python",
   "nbconvert_exporter": "python",
   "pygments_lexer": "ipython3",
   "version": "3.7.6"
  }
 },
 "nbformat": 4,
 "nbformat_minor": 4
}
